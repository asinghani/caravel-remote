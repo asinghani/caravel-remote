{
 "cells": [
  {
   "cell_type": "code",
   "execution_count": null,
   "id": "5d798bb4",
   "metadata": {},
   "outputs": [],
   "source": [
    "from caravel import *\n",
    "from gpio import *"
   ]
  },
  {
   "cell_type": "code",
   "execution_count": null,
   "id": "99e57200-e31a-4a69-8bae-1a44344337f9",
   "metadata": {},
   "outputs": [],
   "source": [
    "dev = caravel_setup()\n",
    "caravel_reset(dev, 1)"
   ]
  },
  {
   "cell_type": "code",
   "execution_count": null,
   "id": "1a9d340b",
   "metadata": {},
   "outputs": [],
   "source": [
    "def tup_setup():\n",
    "    for i in range(8, 16):\n",
    "        gpio_setmode(dev, i, 0)\n",
    "\n",
    "    for i in range(16, 24):\n",
    "        gpio_setmode(dev, i, 1)\n",
    "    \n",
    "    gpio_config_push(dev)\n",
    "\n",
    "def tup_gpio_get():\n",
    "    return gpio_getrange(dev, 23, 16)\n",
    "\n",
    "def tup_gpio_set(val):\n",
    "    gpio_setrange(dev, 15, 8, val)"
   ]
  },
  {
   "cell_type": "code",
   "execution_count": null,
   "id": "6683a4e3",
   "metadata": {},
   "outputs": [],
   "source": [
    "gpio_setup(\"gf180\")\n",
    "tup_setup()"
   ]
  },
  {
   "cell_type": "code",
   "execution_count": null,
   "id": "04d7bad6",
   "metadata": {},
   "outputs": [],
   "source": [
    "gpio_getrange(dev, 15, 8)"
   ]
  },
  {
   "cell_type": "code",
   "execution_count": null,
   "id": "6bc9d0a0-06cb-4dc9-a939-0090111569bf",
   "metadata": {},
   "outputs": [],
   "source": [
    "tup_gpio_set(0b0000_0000)\n",
    "print(f\"{tup_gpio_get():08b}\")"
   ]
  },
  {
   "cell_type": "code",
   "execution_count": null,
   "id": "1c309289-8e25-4172-8b0b-3a530f3bfe60",
   "metadata": {},
   "outputs": [],
   "source": []
  },
  {
   "cell_type": "code",
   "execution_count": null,
   "id": "e433cc8f-1512-4760-b2f3-9769c3ee8e55",
   "metadata": {},
   "outputs": [],
   "source": []
  },
  {
   "cell_type": "code",
   "execution_count": null,
   "id": "2502e428-0b4d-4ac4-a698-c4656f56d803",
   "metadata": {},
   "outputs": [],
   "source": []
  },
  {
   "cell_type": "code",
   "execution_count": null,
   "id": "a8d7bd04-38de-4f77-802d-46ff9c0c6774",
   "metadata": {},
   "outputs": [],
   "source": []
  }
 ],
 "metadata": {
  "kernelspec": {
   "display_name": "Python 3 (ipykernel)",
   "language": "python",
   "name": "python3"
  },
  "language_info": {
   "codemirror_mode": {
    "name": "ipython",
    "version": 3
   },
   "file_extension": ".py",
   "mimetype": "text/x-python",
   "name": "python",
   "nbconvert_exporter": "python",
   "pygments_lexer": "ipython3",
   "version": "3.10.4"
  }
 },
 "nbformat": 4,
 "nbformat_minor": 5
}
